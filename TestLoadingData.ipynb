{
 "cells": [
  {
   "cell_type": "code",
   "execution_count": 15,
   "metadata": {},
   "outputs": [
    {
     "name": "stdout",
     "output_type": "stream",
     "text": [
      "Male Tail Colors 111 7\n",
      "Worksheet names: ['Hermaphrodite Head Positions', 'Hermaphrodite Head Colors', 'Hermaphrodite Tail Positions', 'Hermaphrodite Tail Colors', 'Male Head Positions', 'Male Head Colors', 'Male Tail Positions', 'Male Tail Colors']\n",
      "Parsing sheet: Hermaphrodite Head Positions\n",
      "  Row 1: [text:'ADAL', number:182.2682051580339, number:100.8276428579064, number:23.60987581238903, number:10.56640787942424, number:17.6163994526686, number:6.531587864448621, number:5.967212931466882, number:30.50263805730735, number:3.045720378507932, number:3.197722178523348, number:-0.2066570664170569]\n",
      "Parsing sheet: Hermaphrodite Head Colors\n",
      "  Row 1: [text:'ADAL', number:0.4168104770064675, number:0.01080264309343614, number:0.140685171108576, number:0.001569131409321875, number:0.766831704491221, number:0.05966809666998414]\n",
      "Parsing sheet: Hermaphrodite Tail Positions\n",
      "  Row 1: [text:'ALNL', number:9.904192141814923, number:32.33366272020893, number:20.29171729401544, number:21.49260023496281, number:13.47490622661712, number:4.025091498221785, number:2.583509953286232, number:14.4387811474187, number:0.7890695518741894, number:1.845457573931461, number:-0.05180896026529985]\n",
      "Parsing sheet: Hermaphrodite Tail Colors\n",
      "  Row 1: [text:'ALNL', number:0.2234843509623914, number:0.003137378709774485, number:0.1332426249326927, number:0.001956277432497181, number:0.07363450895880166, number:0.001283975300848357]\n",
      "Parsing sheet: Male Head Positions\n",
      "  Row 1: [text:'ADAL', number:307.319974335338, number:44.32245699707531, number:21.61210041340008, number:10.73286029768431, number:18.34344954358392, number:5.942320604416516, number:9.468014222813771, number:38.79300415060037, number:3.932170785387365, number:2.728599904146404, number:0.2066570664170569]\n",
      "Parsing sheet: Male Head Colors\n",
      "  Row 1: [text:'ADAL', number:0.3665899544444147, number:0.02216382330885613, number:0.2084605803103047, number:0.004184919332384825, number:0.2290820001803882, number:0.006275003081043915]\n",
      "Parsing sheet: Male Tail Positions\n",
      "  Row 1: [text:'ALNL', number:26.77681719584475, number:116.4509154445277, number:21.36280671447778, number:26.15294410696657, number:9.924020219490643, number:4.044081411433954, number:6.265400764408401, number:13.71042009726857, number:1.111251390382843, number:2.088840349603515, number:0.05180896026529985]\n",
      "Parsing sheet: Male Tail Colors\n",
      "  Row 1: [text:'ALNL', number:0.5171071160248213, number:0.01294482847985897, number:0.23082155253216, number:0.01900923160333419, number:0.07887411328438432, number:0.004309579736711323]\n",
      "{'Hermaphrodite Head Positions': {text:'ADAL': {'volume': 182.2682051580339, 'ap_position': 100.8276428579064, 'dv_position': 23.60987581238903, 'lr_position': 10.56640787942424}}, 'Hermaphrodite Head Colors': {text:'ADAL': {'volume': 0.4168104770064675, 'ap_position': 0.01080264309343614, 'dv_position': 0.140685171108576, 'lr_position': 0.001569131409321875}}, 'Hermaphrodite Tail Positions': {text:'ALNL': {'volume': 9.904192141814923, 'ap_position': 32.33366272020893, 'dv_position': 20.29171729401544, 'lr_position': 21.49260023496281}}, 'Hermaphrodite Tail Colors': {text:'ALNL': {'volume': 0.2234843509623914, 'ap_position': 0.003137378709774485, 'dv_position': 0.1332426249326927, 'lr_position': 0.001956277432497181}}, 'Male Head Positions': {text:'ADAL': {'volume': 307.319974335338, 'ap_position': 44.32245699707531, 'dv_position': 21.61210041340008, 'lr_position': 10.73286029768431}}, 'Male Head Colors': {text:'ADAL': {'volume': 0.3665899544444147, 'ap_position': 0.02216382330885613, 'dv_position': 0.2084605803103047, 'lr_position': 0.004184919332384825}}, 'Male Tail Positions': {text:'ALNL': {'volume': 26.77681719584475, 'ap_position': 116.4509154445277, 'dv_position': 21.36280671447778, 'lr_position': 26.15294410696657}}, 'Male Tail Colors': {text:'ALNL': {'volume': 0.5171071160248213, 'ap_position': 0.01294482847985897, 'dv_position': 0.23082155253216, 'lr_position': 0.01900923160333419}}}\n"
     ]
    }
   ],
   "source": [
    "import xlrd\n",
    "book = xlrd.open_workbook(\"data/Table S2 - Positional variability and color of all neurons in males and hermaphrodites v2.xlsx\")\n",
    "\n",
    "\n",
    "print(\"{0} {1} {2}\".format(sh.name, sh.nrows, sh.ncols))\n",
    "\n",
    "print(\"Worksheet names: {0}\".format(book.sheet_names()))\n",
    "\n",
    "data = {}\n",
    "\n",
    "for ws in range(book.nsheets):\n",
    "    sheet_name = book.sheet_names()[ws]\n",
    "    data[sheet_name]={}\n",
    "    \n",
    "    print('Parsing sheet: %s'%sheet_name)\n",
    "    sh = book.sheet_by_index(ws)\n",
    "    \n",
    "    for rx in range(sh.nrows):\n",
    "        if rx==1:\n",
    "            print('  Row %i: %s'%(rx,sh.row(rx)))\n",
    "            \n",
    "        if rx==1:\n",
    "            neuron = sh.row(rx)[0]\n",
    "            data[sheet_name][neuron]={}\n",
    "            data[sheet_name][neuron]['volume'] = sh.row(rx)[1].value\n",
    "            data[sheet_name][neuron]['ap_position'] = sh.row(rx)[2].value\n",
    "            data[sheet_name][neuron]['dv_position'] = sh.row(rx)[3].value\n",
    "            data[sheet_name][neuron]['lr_position'] = sh.row(rx)[4].value\n",
    "            #'A-P Distance (μm)\tD-V Distance (μm)\tL-R Distance (μm)\tA-P Variance (μm2)\tD-V Variance (μm2)\tL-R Variance (μm2)\tEffect Size (D)\n",
    "        \n",
    "            \n",
    "print(data)\n",
    "            \n",
    "            "
   ]
  },
  {
   "cell_type": "code",
   "execution_count": null,
   "metadata": {},
   "outputs": [],
   "source": []
  }
 ],
 "metadata": {
  "kernelspec": {
   "display_name": "Python 3",
   "language": "python",
   "name": "python3"
  },
  "language_info": {
   "codemirror_mode": {
    "name": "ipython",
    "version": 3
   },
   "file_extension": ".py",
   "mimetype": "text/x-python",
   "name": "python",
   "nbconvert_exporter": "python",
   "pygments_lexer": "ipython3",
   "version": "3.7.7"
  }
 },
 "nbformat": 4,
 "nbformat_minor": 4
}
